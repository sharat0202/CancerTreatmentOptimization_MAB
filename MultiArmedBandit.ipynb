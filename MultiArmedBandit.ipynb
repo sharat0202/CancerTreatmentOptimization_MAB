{
 "cells": [
  {
   "cell_type": "markdown",
   "id": "6090b435",
   "metadata": {},
   "source": [
    "<h1>Deep Reinforcement Learning</h1>\n",
    "<h3> Multi Armed bandit Algorithm</h3>\n",
    "\n",
    "<h5>SHARAT KN </h5>\n"
   ]
  },
  {
   "cell_type": "markdown",
   "id": "77194e7f",
   "metadata": {},
   "source": [
    "Problem Statement:\n",
    "You are a data scientist working in cancer research, collaborating with a medical institution that conducts clinical trials for different treatment protocols. The objective is to optimize the allocation of resources (Research time, and funding) across diverse treatment arms within breast cancer clinical trials. The primary goal is to identify the most efficacious and personalized treatment strategies while minimizing resource expenditure and expediting the development of effective treatments for cancer patients."
   ]
  },
  {
   "cell_type": "markdown",
   "id": "b534b680",
   "metadata": {},
   "source": [
    "IMPORTING DATASET AND PREPROCESSING"
   ]
  },
  {
   "cell_type": "code",
   "execution_count": 18,
   "id": "79d76eff",
   "metadata": {},
   "outputs": [],
   "source": [
    "import numpy as np\n",
    "import pandas as pd\n",
    "import matplotlib.pyplot as plt\n",
    "import gym\n",
    "from gym import spaces"
   ]
  },
  {
   "cell_type": "code",
   "execution_count": 19,
   "id": "9f5e010c",
   "metadata": {},
   "outputs": [
    {
     "data": {
      "text/html": [
       "<div>\n",
       "<style scoped>\n",
       "    .dataframe tbody tr th:only-of-type {\n",
       "        vertical-align: middle;\n",
       "    }\n",
       "\n",
       "    .dataframe tbody tr th {\n",
       "        vertical-align: top;\n",
       "    }\n",
       "\n",
       "    .dataframe thead th {\n",
       "        text-align: right;\n",
       "    }\n",
       "</style>\n",
       "<table border=\"1\" class=\"dataframe\">\n",
       "  <thead>\n",
       "    <tr style=\"text-align: right;\">\n",
       "      <th></th>\n",
       "      <th>diagnosis</th>\n",
       "      <th>radius_mean</th>\n",
       "      <th>texture_mean</th>\n",
       "      <th>perimeter_mean</th>\n",
       "      <th>area_mean</th>\n",
       "      <th>smoothness_mean</th>\n",
       "      <th>compactness_mean</th>\n",
       "      <th>concavity_mean</th>\n",
       "      <th>concave points_mean</th>\n",
       "      <th>symmetry_mean</th>\n",
       "      <th>fractal_dimension_mean</th>\n",
       "      <th>Treatment Type</th>\n",
       "      <th>Treatment status(0=Failure,1=Success)</th>\n",
       "      <th>budget(in dollars)</th>\n",
       "      <th>Time(In days)</th>\n",
       "    </tr>\n",
       "  </thead>\n",
       "  <tbody>\n",
       "    <tr>\n",
       "      <th>0</th>\n",
       "      <td>M</td>\n",
       "      <td>17.99</td>\n",
       "      <td>10.38</td>\n",
       "      <td>122.8</td>\n",
       "      <td>1001.0</td>\n",
       "      <td>0.11840</td>\n",
       "      <td>0.27760</td>\n",
       "      <td>0.3001</td>\n",
       "      <td>0.14710</td>\n",
       "      <td>0.2419</td>\n",
       "      <td>0.07871</td>\n",
       "      <td>Chemotherapy</td>\n",
       "      <td>1</td>\n",
       "      <td>16442</td>\n",
       "      <td>224</td>\n",
       "    </tr>\n",
       "    <tr>\n",
       "      <th>1</th>\n",
       "      <td>M</td>\n",
       "      <td>20.57</td>\n",
       "      <td>17.77</td>\n",
       "      <td>132.9</td>\n",
       "      <td>1326.0</td>\n",
       "      <td>0.08474</td>\n",
       "      <td>0.07864</td>\n",
       "      <td>0.0869</td>\n",
       "      <td>0.07017</td>\n",
       "      <td>0.1812</td>\n",
       "      <td>0.05667</td>\n",
       "      <td>Surgery</td>\n",
       "      <td>1</td>\n",
       "      <td>40967</td>\n",
       "      <td>324</td>\n",
       "    </tr>\n",
       "  </tbody>\n",
       "</table>\n",
       "</div>"
      ],
      "text/plain": [
       "  diagnosis  radius_mean  texture_mean  perimeter_mean  area_mean  \\\n",
       "0         M        17.99         10.38           122.8     1001.0   \n",
       "1         M        20.57         17.77           132.9     1326.0   \n",
       "\n",
       "   smoothness_mean  compactness_mean  concavity_mean  concave points_mean  \\\n",
       "0          0.11840           0.27760          0.3001              0.14710   \n",
       "1          0.08474           0.07864          0.0869              0.07017   \n",
       "\n",
       "   symmetry_mean  fractal_dimension_mean Treatment Type  \\\n",
       "0         0.2419                 0.07871   Chemotherapy   \n",
       "1         0.1812                 0.05667        Surgery   \n",
       "\n",
       "   Treatment status(0=Failure,1=Success)  budget(in dollars)  Time(In days)  \n",
       "0                                      1               16442            224  \n",
       "1                                      1               40967            324  "
      ]
     },
     "execution_count": 19,
     "metadata": {},
     "output_type": "execute_result"
    }
   ],
   "source": [
    "cancer_ds = pd.read_csv(\"cancer.csv\")\n",
    "cancer_ds.head(2) #display first 2 rows of the dataframe"
   ]
  },
  {
   "cell_type": "code",
   "execution_count": 20,
   "id": "37001c2e",
   "metadata": {},
   "outputs": [
    {
     "name": "stdout",
     "output_type": "stream",
     "text": [
      "<class 'pandas.core.frame.DataFrame'>\n",
      "RangeIndex: 569 entries, 0 to 568\n",
      "Data columns (total 15 columns):\n",
      " #   Column                                 Non-Null Count  Dtype  \n",
      "---  ------                                 --------------  -----  \n",
      " 0   diagnosis                              569 non-null    object \n",
      " 1   radius_mean                            569 non-null    float64\n",
      " 2   texture_mean                           569 non-null    float64\n",
      " 3   perimeter_mean                         569 non-null    float64\n",
      " 4   area_mean                              569 non-null    float64\n",
      " 5   smoothness_mean                        569 non-null    float64\n",
      " 6   compactness_mean                       569 non-null    float64\n",
      " 7   concavity_mean                         569 non-null    float64\n",
      " 8   concave points_mean                    569 non-null    float64\n",
      " 9   symmetry_mean                          569 non-null    float64\n",
      " 10  fractal_dimension_mean                 569 non-null    float64\n",
      " 11  Treatment Type                         569 non-null    object \n",
      " 12  Treatment status(0=Failure,1=Success)  569 non-null    int64  \n",
      " 13  budget(in dollars)                     569 non-null    int64  \n",
      " 14  Time(In days)                          569 non-null    int64  \n",
      "dtypes: float64(10), int64(3), object(2)\n",
      "memory usage: 66.8+ KB\n"
     ]
    }
   ],
   "source": [
    "cancer_ds.info()"
   ]
  },
  {
   "cell_type": "markdown",
   "id": "304b1b9b",
   "metadata": {},
   "source": [
    "No null values observed. The dataset is clean for further processing"
   ]
  },
  {
   "cell_type": "markdown",
   "id": "beff3695",
   "metadata": {},
   "source": [
    "Tumor Details are not relevant for our research. Hence, we are dropping those details from the dataset"
   ]
  },
  {
   "cell_type": "code",
   "execution_count": 21,
   "id": "233daa6c",
   "metadata": {},
   "outputs": [
    {
     "data": {
      "text/html": [
       "<div>\n",
       "<style scoped>\n",
       "    .dataframe tbody tr th:only-of-type {\n",
       "        vertical-align: middle;\n",
       "    }\n",
       "\n",
       "    .dataframe tbody tr th {\n",
       "        vertical-align: top;\n",
       "    }\n",
       "\n",
       "    .dataframe thead th {\n",
       "        text-align: right;\n",
       "    }\n",
       "</style>\n",
       "<table border=\"1\" class=\"dataframe\">\n",
       "  <thead>\n",
       "    <tr style=\"text-align: right;\">\n",
       "      <th></th>\n",
       "      <th>diagnosis</th>\n",
       "      <th>Treatment Type</th>\n",
       "      <th>Treatment status(0=Failure,1=Success)</th>\n",
       "      <th>budget(in dollars)</th>\n",
       "      <th>Time(In days)</th>\n",
       "    </tr>\n",
       "  </thead>\n",
       "  <tbody>\n",
       "    <tr>\n",
       "      <th>0</th>\n",
       "      <td>M</td>\n",
       "      <td>Chemotherapy</td>\n",
       "      <td>1</td>\n",
       "      <td>16442</td>\n",
       "      <td>224</td>\n",
       "    </tr>\n",
       "    <tr>\n",
       "      <th>1</th>\n",
       "      <td>M</td>\n",
       "      <td>Surgery</td>\n",
       "      <td>1</td>\n",
       "      <td>40967</td>\n",
       "      <td>324</td>\n",
       "    </tr>\n",
       "  </tbody>\n",
       "</table>\n",
       "</div>"
      ],
      "text/plain": [
       "  diagnosis Treatment Type  Treatment status(0=Failure,1=Success)  \\\n",
       "0         M   Chemotherapy                                      1   \n",
       "1         M        Surgery                                      1   \n",
       "\n",
       "   budget(in dollars)  Time(In days)  \n",
       "0               16442            224  \n",
       "1               40967            324  "
      ]
     },
     "execution_count": 21,
     "metadata": {},
     "output_type": "execute_result"
    }
   ],
   "source": [
    "cancer = cancer_ds.drop(columns=['radius_mean', 'texture_mean','perimeter_mean','area_mean','smoothness_mean','compactness_mean','concavity_mean','concave points_mean','symmetry_mean','fractal_dimension_mean'])\n",
    "cancer.head(2)"
   ]
  },
  {
   "cell_type": "markdown",
   "id": "f649be96",
   "metadata": {},
   "source": [
    "We are keeping only those variables which are required to make the selection of efficient Treatment Process - Type of Cancer, Treatment Type, Treatment Status, Budget, Time the treatment process took"
   ]
  },
  {
   "cell_type": "markdown",
   "id": "93ee7573",
   "metadata": {},
   "source": [
    "<h3> Implement the Multi-Armed Bandit algorithm (Epsilon-Greedy) using OPENAI GYM</h3>"
   ]
  },
  {
   "cell_type": "code",
   "execution_count": 22,
   "id": "03e89109",
   "metadata": {},
   "outputs": [],
   "source": [
    "class CancerTreatmentEnv(gym.Env):\n",
    "    def __init__(self, data):\n",
    "        super(CancerTreatmentEnv, self).__init__()\n",
    "\n",
    "        self.data = data\n",
    "        self.treatment_types = np.unique(data['Treatment Type'])\n",
    "        self.num_actions = len(self.treatment_types)\n",
    "        self.action_space = spaces.Discrete(self.num_actions)\n",
    "\n",
    "        self.current_episode = 0\n",
    "\n",
    "    def step(self, action):\n",
    "        # Execute action and get reward\n",
    "        chosen_treatment = self.treatment_types[action]\n",
    "        \n",
    "        #Filter all the rows with the Treatment Type specified\n",
    "        filtered_row = self.data[self.data['Treatment Type'] == chosen_treatment]\n",
    "        #Selecting a random Patient from the filtered Treatment Type category\n",
    "        random_row = filtered_row.sample(n=1, random_state=None)\n",
    "\n",
    "        reward = calculate_reward(random_row['diagnosis'].iloc[0], chosen_treatment, random_row['budget(in dollars)'].iloc[0], random_row['Time(In days)'].iloc[0], random_row['Treatment status(0=Failure,1=Success)'].iloc[0])\n",
    "\n",
    "        # Increment episode counter\n",
    "        self.current_episode += 1\n",
    "\n",
    "        return None, reward, False, {}  # Observation is None, no termination condition defined\n",
    "\n",
    "    def reset(self):\n",
    "        return None  # Observation is None\n",
    "\n",
    "    def render(self, mode='human'):\n",
    "        pass\n",
    "\n",
    "    def close(self):\n",
    "        pass"
   ]
  },
  {
   "cell_type": "markdown",
   "id": "a2f7564c",
   "metadata": {},
   "source": [
    "Epsilon-greedy is a strategy in reinforcement learning where an agent explores randomly with probability ε, and exploits the best-known action with probability 1-ε, balancing exploration and exploitation."
   ]
  },
  {
   "cell_type": "code",
   "execution_count": 23,
   "id": "c45f7da3",
   "metadata": {},
   "outputs": [],
   "source": [
    "class EpsilonGreedy:\n",
    "    def __init__(self, epsilon, num_actions):\n",
    "        self.epsilon = epsilon\n",
    "        self.num_actions = num_actions\n",
    "        self.action_counts = np.zeros(num_actions)\n",
    "        self.q_values = np.zeros(num_actions)\n",
    "        self.exploration_count = 0  # Initialize exploration count\n",
    "        self.exploitation_count = 0  # Initialize exploitation count\n",
    "        self.total_reward = 0\n",
    "\n",
    "    def choose_action(self):\n",
    "        if np.random.random() < self.epsilon:\n",
    "            # Exploration: Choose a random action\n",
    "            action = np.random.randint(self.num_actions)\n",
    "            self.exploration_count += 1  # Increment exploration count\n",
    "        else:\n",
    "            # Exploitation: Choose action with highest Q-value\n",
    "            action = np.argmax(self.q_values)\n",
    "            self.exploitation_count += 1  # Increment exploitation count\n",
    "        return action\n",
    "        \n",
    "\n",
    "    def update(self, action, reward):\n",
    "        self.action_counts[action] += 1\n",
    "        self.q_values[action] += (reward - self.q_values[action]) / self.action_counts[action]\n",
    "        self.total_reward += reward\n"
   ]
  },
  {
   "cell_type": "markdown",
   "id": "d113996e",
   "metadata": {},
   "source": [
    "Defining Rewards"
   ]
  },
  {
   "cell_type": "code",
   "execution_count": 24,
   "id": "ab466119",
   "metadata": {},
   "outputs": [],
   "source": [
    "def calculate_reward(cancer_type, treatment_type, budget, time, success):\n",
    "    # Reward based on cancer type\n",
    "    type_reward = 1 if cancer_type == 'M' else 0.5  # Assuming Malignant holds higher value\n",
    "\n",
    "    # Reward based on time (less time holds higher value)\n",
    "    time_reward = 1 / (1 + time) \n",
    "\n",
    "    # Reward based on budget (less budget preferred)\n",
    "    budget_reward = 1 / (1 + budget) \n",
    "\n",
    "    # Reward based on success rate (0 - failure, no reward at all)\n",
    "    success_reward = success \n",
    "\n",
    "    # Combine rewards using weighted sum or any other suitable method\n",
    "    returns = 0.4 * success_reward + 0.25 * time_reward + 0.25 * budget_reward + 0.1 * type_reward\n",
    "\n",
    "    return returns"
   ]
  },
  {
   "cell_type": "markdown",
   "id": "8c412cd9",
   "metadata": {},
   "source": [
    " type_reward: Assigns a higher reward (1) if the cancer type is malignant and a lower reward (0.5) if it's benign.<br>\n",
    " time_reward: Assigns a higher reward for treatments that take less time.<br>\n",
    " budget_reward: Assigns a higher reward for treatments with lower budgets.<br>\n",
    " success_reward: Assigns a reward based on the success rate, with successful treatments receiving a reward of 1 and unsuccessful treatments receiving a reward of 0. This parameter holds the heighest weightage while calculating returns<br>\n",
    " \n",
    " total_reward: Combines the rewards using a weighted sum, with weights chosen based on their relative importance."
   ]
  },
  {
   "cell_type": "code",
   "execution_count": 25,
   "id": "316f332a",
   "metadata": {},
   "outputs": [],
   "source": [
    "# Instantiating the environment\n",
    "env = CancerTreatmentEnv(cancer)"
   ]
  },
  {
   "cell_type": "code",
   "execution_count": 26,
   "id": "1ae18412",
   "metadata": {},
   "outputs": [],
   "source": [
    "#Instantiating the MAB Agent\n",
    "epsilon = 0.1  # Epsilon value for epsilon-greedy algorithm\n",
    "mab = EpsilonGreedy(epsilon, env.num_actions)"
   ]
  },
  {
   "cell_type": "markdown",
   "id": "6b0b9504",
   "metadata": {},
   "source": [
    "<h3>Train the MAB model</h3>"
   ]
  },
  {
   "cell_type": "code",
   "execution_count": 27,
   "id": "4e28c7fe",
   "metadata": {},
   "outputs": [],
   "source": [
    "q_values_over_episodes = []\n",
    "# Training loop\n",
    "num_episodes = 1000  # Number of episodes (iterations)\n",
    "for episode in range(num_episodes):\n",
    "    # Choose an action (treatment type) based on MAB algorithm\n",
    "    action = mab.choose_action()\n",
    "    \n",
    "    # Execute action and get reward from environment\n",
    "    _, reward, _, _ = env.step(action)\n",
    "       \n",
    "    # Update the MAB model with the observed reward\n",
    "    mab.update(action, reward)\n",
    "    \n",
    "     # Record Q-values after each episode\n",
    "    q_values_over_episodes.append(mab.q_values.copy())  # Copy Q-values to prevent mutation"
   ]
  },
  {
   "cell_type": "markdown",
   "id": "4caf4a51",
   "metadata": {},
   "source": [
    "<h3> EVALUATION </h3>"
   ]
  },
  {
   "cell_type": "code",
   "execution_count": 28,
   "id": "c2d853eb",
   "metadata": {},
   "outputs": [
    {
     "name": "stdout",
     "output_type": "stream",
     "text": [
      "Learned Q-values: [0.25554613 0.3396224  0.28792322 0.32358501]\n"
     ]
    }
   ],
   "source": [
    "# Access learned Q-values\n",
    "print(\"Learned Q-values:\", mab.q_values)"
   ]
  },
  {
   "cell_type": "code",
   "execution_count": 29,
   "id": "1f7db82e",
   "metadata": {},
   "outputs": [
    {
     "name": "stdout",
     "output_type": "stream",
     "text": [
      "Learned Q-values:\n",
      "Treatment Chemotherapy: 0.25554612629917556\n",
      "Treatment Harmone Therapy: 0.3396223971736526\n",
      "Treatment Radiation Therapy: 0.28792322034110934\n",
      "Treatment Surgery: 0.3235850120907587\n"
     ]
    }
   ],
   "source": [
    "# Accessing learned Q-values\n",
    "print(\"Learned Q-values:\")\n",
    "for i, q_value in enumerate(mab.q_values):\n",
    "    print(f\"Treatment {env.treatment_types[i]}: {q_value}\")"
   ]
  },
  {
   "cell_type": "code",
   "execution_count": 30,
   "id": "d0e9d9fc",
   "metadata": {},
   "outputs": [
    {
     "name": "stdout",
     "output_type": "stream",
     "text": [
      "Mean Q-values: 0.301669188976174\n",
      "Standard deviation of Q-values: 0.03254626660499415\n"
     ]
    }
   ],
   "source": [
    "# Q-value distribution\n",
    "mean_q_values = np.mean(mab.q_values, axis=0)\n",
    "std_q_values = np.std(mab.q_values, axis=0)\n",
    "print(\"Mean Q-values:\", mean_q_values)\n",
    "print(\"Standard deviation of Q-values:\", std_q_values)"
   ]
  },
  {
   "cell_type": "code",
   "execution_count": 31,
   "id": "a5fa353c",
   "metadata": {},
   "outputs": [
    {
     "name": "stdout",
     "output_type": "stream",
     "text": [
      "Exploration count: 98\n",
      "Exploitation count: 902\n"
     ]
    }
   ],
   "source": [
    "# After training, you can access exploration and exploitation counts\n",
    "print(\"Exploration count:\", mab.exploration_count)\n",
    "print(\"Exploitation count:\", mab.exploitation_count)"
   ]
  },
  {
   "cell_type": "code",
   "execution_count": 32,
   "id": "1a58954e",
   "metadata": {},
   "outputs": [
    {
     "name": "stdout",
     "output_type": "stream",
     "text": [
      "Cumulative Reward: 335.683042212036\n"
     ]
    }
   ],
   "source": [
    "print(\"Cumulative Reward:\", mab.total_reward)"
   ]
  },
  {
   "cell_type": "code",
   "execution_count": 33,
   "id": "9af87c79",
   "metadata": {},
   "outputs": [
    {
     "name": "stderr",
     "output_type": "stream",
     "text": [
      "No artists with labels found to put in legend.  Note that artists whose label start with an underscore are ignored when legend() is called with no argument.\n"
     ]
    },
    {
     "data": {
      "image/png": "[encoded data removed]",
      "text/plain": [
       "<Figure size 640x480 with 1 Axes>"
      ]
     },
     "metadata": {},
     "output_type": "display_data"
    }
   ],
   "source": [
    "plt.plot(q_values_over_episodes)\n",
    "\n",
    "plt.xlabel('Episode')\n",
    "plt.ylabel('Q-values')\n",
    "plt.title('Q-values Convergence over Episodes')\n",
    "plt.grid(True)\n",
    "plt.legend()\n",
    "plt.show()\n"
   ]
  },
  {
   "cell_type": "markdown",
   "id": "a8508b0f",
   "metadata": {},
   "source": [
    "<h3> CONCLUSION </h3>"
   ]
  },
  {
   "cell_type": "code",
   "execution_count": 34,
   "id": "054cc53b",
   "metadata": {},
   "outputs": [
    {
     "name": "stdout",
     "output_type": "stream",
     "text": [
      "Treatment type with highest Q-values: Harmone Therapy\n"
     ]
    }
   ],
   "source": [
    "#Selection of Best Treatment Type based on the Q_Value\n",
    "selected_treatment_types = np.argmax(mab.q_values)\n",
    "print(\"Treatment type with highest Q-values:\", env.treatment_types[selected_treatment_types])"
   ]
  },
  {
   "cell_type": "markdown",
   "id": "f0351472",
   "metadata": {},
   "source": [
    "Hence, we are selecting Hormone Therapy as our preferred treatment process. This is because Hormone Therapy performs better than other treatment processes via Multi-Armed Bandit Algorithm."
   ]
  }
 ],
 "metadata": {
  "kernelspec": {
   "display_name": "Python 3 (ipykernel)",
   "language": "python",
   "name": "python3"
  },
  "language_info": {
   "codemirror_mode": {
    "name": "ipython",
    "version": 3
   },
   "file_extension": ".py",
   "mimetype": "text/x-python",
   "name": "python",
   "nbconvert_exporter": "python",
   "pygments_lexer": "ipython3",
   "version": "3.9.18"
  }
 },
 "nbformat": 4,
 "nbformat_minor": 5
}
